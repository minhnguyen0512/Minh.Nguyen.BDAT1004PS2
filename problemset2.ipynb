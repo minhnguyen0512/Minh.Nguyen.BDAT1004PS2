{
 "cells": [
  {
   "cell_type": "markdown",
   "metadata": {},
   "source": [
    "## Question1\n",
    "\n",
    "Consider the following Python module:\n",
    "```\n",
    "a = 0\n",
    "def b():\n",
    "    global a\n",
    "    a = c(a)\n",
    "\n",
    "def c(a):\n",
    "    return a + 2\n",
    "\n",
    "```\n",
    "What value is displayed when the last expression (a) is evaluated? Explain your answer by indicating what happens in every executed statement"
   ]
  },
  {
   "cell_type": "code",
   "execution_count": 7,
   "metadata": {},
   "outputs": [
    {
     "data": {
      "text/plain": [
       "6"
      ]
     },
     "execution_count": 7,
     "metadata": {},
     "output_type": "execute_result"
    }
   ],
   "source": [
    "a = 0\n",
    "def b():\n",
    "    global a\n",
    "    a = c(a)\n",
    "\n",
    "def c(a):\n",
    "    return a + 2\n",
    "\n",
    "b()\n",
    "b()\n",
    "b()\n",
    "a"
   ]
  },
  {
   "cell_type": "markdown",
   "metadata": {},
   "source": [
    "The value displayed will be 6.\n",
    "\n",
    "Step by step execution:\n",
    "* Initial setup:\n",
    "    - `a` is initially set to `0` in the global scope.\n",
    "* Defining Function `b()`:\n",
    "    - The function `b()` is defined.\n",
    "    - Inside `b()` the `global` keyword specifices that `a` refers to the global variable `a`.\n",
    "    - When `b()` is called, it updates `a` by the result of calling `c(a)`.\n",
    "* Defining Function `c(a)`:\n",
    "    - The function `c(a)` takes a parameter `a` and returns `a+2`.\n",
    "* Execution of `b()` statements:\n",
    "    - Each time `b()` is called, it updates the global `a` by passing its current value to `c(a)`.\n",
    "    - First `b()` call: `a=0` => `c(0)` => `0 + 2 = 2`.\n",
    "    - Second `b()` call: `a=2` => `c(2)` => `2 + 2 = 4`.\n",
    "    - Third `b()` call: `a=4` => `c(4)` => `4 + 2 = 6`.\n",
    "* Final Results: `a = 6` after executing `b()` three times."
   ]
  },
  {
   "cell_type": "markdown",
   "metadata": {},
   "source": [
    "## Question 2:\n",
    "Function fileLength(), given to you, takes the name of a file as input and returns \n",
    "the length of the file: \n",
    " \n",
    "* `fileLength('midterm.py')` \n",
    "    - 284 \n",
    "* `fileLength('idterm.py')` \n",
    "    - Traceback  (most  recent  call  last): \n",
    "    - File  \"<pyshell#34>\",  line  1,  in  <module> \n",
    "* `fileLength('idterm.py')` \n",
    "    - File  \"/Users/me/midterm.py\",  line  3,  in  fileLength \n",
    "* `infile  =  open(filename)` \n",
    "    - FileNotFoundError:  [Errno  2]  No  such  file  or  directory: 'idterm.py' \n",
    "\n",
    "As shown above, if the file cannot be found by the interpreter or if it cannot be read \n",
    "as a text file, an exception will be raised. Modify function fileLength() so that a \n",
    "friendly message is printed instead: \n",
    " \n",
    "* `fileLength('midterm.py')`  \n",
    "    - 358 \n",
    "* `fileLength('idterm.py')` \n",
    "    - File  idterm.py  not  found."
   ]
  },
  {
   "cell_type": "code",
   "execution_count": 2,
   "metadata": {},
   "outputs": [],
   "source": [
    "def fileLength(filepath):\n",
    "    try:\n",
    "        file = open(filepath, 'r')\n",
    "        contents = file.read()\n",
    "        file.close()\n",
    "        return len(contents)\n",
    "    except FileNotFoundError:\n",
    "        print(f'File {filepath} not found')"
   ]
  },
  {
   "cell_type": "code",
   "execution_count": 3,
   "metadata": {},
   "outputs": [
    {
     "data": {
      "text/plain": [
       "123"
      ]
     },
     "execution_count": 3,
     "metadata": {},
     "output_type": "execute_result"
    }
   ],
   "source": [
    "fileLength('Filelength.txt')"
   ]
  },
  {
   "cell_type": "code",
   "execution_count": 44,
   "metadata": {},
   "outputs": [
    {
     "name": "stdout",
     "output_type": "stream",
     "text": [
      "File idterm.py not found\n"
     ]
    }
   ],
   "source": [
    "fileLength('idterm.py')"
   ]
  },
  {
   "cell_type": "markdown",
   "metadata": {},
   "source": [
    "## Question 3 \n",
    "- Write a class named Marsupial that can be used as shown below: \n",
    "```\n",
    "  m  =  Marsupial() \n",
    "  m.put_in_pouch('doll') \n",
    "  m.put_in_pouch('firetruck') \n",
    "  m.put_in_pouch('kitten') \n",
    "  m.pouch_contents() \n",
    "``` \n",
    "['doll',  'firetruck',  'kitten']\n",
    "\n",
    "- Now write a class named Kangaroo as a subclass of Marsupial that inherits all the \n",
    "attributes of Marsupial and also: \n",
    "\n",
    "a. Extends the Marsupial  `__init__` constructor to take, as input, the \n",
    "coordinates x and y of the Kangaroo object. \n",
    "b. Supports method jump that takes number values dx and dy as input and \n",
    "moves the kangaroo by dx units along the x-axis and by dy units along the y- \n",
    "axis. \n",
    "c. Overloads the `__str__` operator so it behaves as shown below. \n",
    "\n",
    "`k  =  Kangaroo(0,0)` \n",
    "`print(k)`\n",
    " \n",
    "I  am  a  Kangaroo  located  at  coordinates  (0,0) \n",
    "\n",
    "```\n",
    "  k.put_in_pouch('doll') \n",
    "  k.put_in_pouch('firetruck') \n",
    "  k.put_in_pouch('kitten') \n",
    "  k.pouch_contents() \n",
    "```\n",
    "\n",
    "['doll',  'firetruck',  'kitten'] \n",
    "\n",
    "```\n",
    "  k.jump(1,0) \n",
    "  k.jump(1,0) \n",
    "  k.jump(1,0) \n",
    "  print(k) \n",
    "```\n",
    "\n",
    "I  am  a  Kangaroo  located  at  coordinates  (3,0) "
   ]
  },
  {
   "cell_type": "code",
   "execution_count": 6,
   "metadata": {},
   "outputs": [],
   "source": [
    "class Marsupial():\n",
    "    def __init__(self):\n",
    "        self.pouch = []\n",
    "    \n",
    "    def put_in_pouch(self, item):\n",
    "        self.pouch.append(item)\n",
    "    \n",
    "    def puch_contents(self):\n",
    "        return self.pouch"
   ]
  },
  {
   "cell_type": "code",
   "execution_count": 8,
   "metadata": {},
   "outputs": [
    {
     "data": {
      "text/plain": [
       "['doll', 'firetruck', 'kitten']"
      ]
     },
     "execution_count": 8,
     "metadata": {},
     "output_type": "execute_result"
    }
   ],
   "source": [
    "m = Marsupial()\n",
    "m.put_in_pouch(\"doll\")\n",
    "m.put_in_pouch(\"firetruck\")\n",
    "m.put_in_pouch(\"kitten\")\n",
    "m.puch_contents()"
   ]
  },
  {
   "cell_type": "code",
   "execution_count": 7,
   "metadata": {},
   "outputs": [],
   "source": [
    "class Kangaroo(Marsupial):\n",
    "    def __init__(self, x , y):\n",
    "        super().__init__() # Initialize the Marsupial part\n",
    "        self.x = x\n",
    "        self.y = y\n",
    "\n",
    "    def jump(self, dx, dy):\n",
    "        self.x += dx\n",
    "        self.y += dy\n",
    "\n",
    "    def __str__(self) -> str:\n",
    "        return f\"I am a Kangaroo located at coordinates ({self.x}, {self.y})\""
   ]
  },
  {
   "cell_type": "code",
   "execution_count": 9,
   "metadata": {},
   "outputs": [
    {
     "name": "stdout",
     "output_type": "stream",
     "text": [
      "I am a Kangaroo located at coordinates (3, 0)\n"
     ]
    }
   ],
   "source": [
    "k = Kangaroo(0, 0)\n",
    "k.jump(1, 0)\n",
    "k.jump(1, 0)\n",
    "k.jump(1, 0)\n",
    "print(k)"
   ]
  },
  {
   "cell_type": "markdown",
   "metadata": {},
   "source": [
    "## Question 4:\n",
    " \n",
    "Write function `collatz()` that takes a positive integer `x` as input and prints the \n",
    "Collatz sequence starting at `x`. A Collatz sequence is obtained by repeatedly applying \n",
    "this rule to the previous number x in the sequence: \n",
    " \n",
    "- x / 2 if x is even\n",
    "- 3x + 1 if x is odd\n",
    "\n",
    "Your function should stop when the sequence gets to number 1. Your \n",
    "implementation must be recursive, without any loops. \n",
    "\n",
    "`collatz(1)` \\\n",
    "1 \n",
    "\n",
    "`collatz(10)` \\\n",
    "10 5 16 8 4 2 1"
   ]
  },
  {
   "cell_type": "code",
   "execution_count": 11,
   "metadata": {},
   "outputs": [],
   "source": [
    "def collatz(x):\n",
    "    print(x)\n",
    "    \n",
    "    if x == 1:\n",
    "        return \n",
    "    elif x % 2 == 0:\n",
    "        collatz(x // 2)\n",
    "    else:\n",
    "        collatz(3 * x + 1)"
   ]
  },
  {
   "cell_type": "code",
   "execution_count": 12,
   "metadata": {},
   "outputs": [
    {
     "name": "stdout",
     "output_type": "stream",
     "text": [
      "1\n"
     ]
    }
   ],
   "source": [
    "collatz(1)"
   ]
  },
  {
   "cell_type": "code",
   "execution_count": 13,
   "metadata": {},
   "outputs": [
    {
     "name": "stdout",
     "output_type": "stream",
     "text": [
      "10\n",
      "5\n",
      "16\n",
      "8\n",
      "4\n",
      "2\n",
      "1\n"
     ]
    }
   ],
   "source": [
    "collatz(10)"
   ]
  },
  {
   "cell_type": "markdown",
   "metadata": {},
   "source": [
    "## Question 5 \n",
    "Write a recursive method binary() that takes a non-negative \n",
    "integer n and prints the binary representation of integer n. \n",
    " \n",
    "`binary(0)`\\\n",
    "0 \n",
    "\n",
    "`binary(1)`\\\n",
    "1\n",
    "\n",
    "`binary(3)`\\\n",
    "11\n",
    "\n",
    "`binary(9)`\\\n",
    "1001"
   ]
  },
  {
   "cell_type": "code",
   "execution_count": null,
   "metadata": {},
   "outputs": [],
   "source": [
    "def binary(n):\n",
    "    # if n is 1 or 0 , print n directly\n",
    "    if n < 2:\n",
    "        print(n, end='')\n",
    "    else:\n",
    "        # recursive case: divide n by 2 and print the remainder\n",
    "        binary(n // 2)\n",
    "        print(n % 2, end='')"
   ]
  },
  {
   "cell_type": "code",
   "execution_count": null,
   "metadata": {},
   "outputs": [
    {
     "name": "stdout",
     "output_type": "stream",
     "text": [
      "1001"
     ]
    }
   ],
   "source": [
    "binary(0)"
   ]
  },
  {
   "cell_type": "code",
   "execution_count": 19,
   "metadata": {},
   "outputs": [
    {
     "name": "stdout",
     "output_type": "stream",
     "text": [
      "1"
     ]
    }
   ],
   "source": [
    "binary(1)"
   ]
  },
  {
   "cell_type": "code",
   "execution_count": 20,
   "metadata": {},
   "outputs": [
    {
     "name": "stdout",
     "output_type": "stream",
     "text": [
      "11"
     ]
    }
   ],
   "source": [
    "binary(3)"
   ]
  },
  {
   "cell_type": "code",
   "execution_count": 21,
   "metadata": {},
   "outputs": [
    {
     "name": "stdout",
     "output_type": "stream",
     "text": [
      "1001"
     ]
    }
   ],
   "source": [
    "binary(9)"
   ]
  },
  {
   "cell_type": "markdown",
   "metadata": {},
   "source": [
    "## Question 6 \n",
    "\n",
    "Implement a class named HeadingParser that can be used to parse an HTML \n",
    "document, and retrieve and print all the headings in the document. You should \n",
    "implement your class as a subclass of HTMLParser, defined in Standard Library \n",
    "module html.parser. When fed a string containing HTML code, your class should \n",
    "print the headings, one per line and in the order in which they appear in the \n",
    "document. Each heading should be indented as follows: an h1 heading should have\n",
    "indentation 0, and h2 heading should have indentation 1, etc. Test your \n",
    "implementation using w3c.html. \n",
    " \n",
    "```\n",
    "infile  =  open('w3c.html') \n",
    "content  =  infile.read() \n",
    "infile.close() \n",
    "hp  =  HeadingParser() \n",
    "hp.feed(content)\n",
    "```\n",
    " \n",
    "W3C  Mission \\\n",
    " Principles"
   ]
  },
  {
   "cell_type": "code",
   "execution_count": 27,
   "metadata": {},
   "outputs": [],
   "source": [
    "from html.parser import HTMLParser\n",
    "\n",
    "class HeadingParser(HTMLParser):\n",
    "    def __init__(self):\n",
    "        super().__init__()\n",
    "        self.in_heading = False\n",
    "        self.heading_level = 0\n",
    "\n",
    "    def handle_starttag(self, tag, attrs):\n",
    "        if tag.startswith(\"h\") and tag[1:].isdigit():\n",
    "            self.in_heading = True\n",
    "            self.heading_level = int(tag[1:]) - 1\n",
    "\n",
    "    def handle_endtag(self, tag):\n",
    "        if tag.startswith(\"h\") and tag[1:].isdigit():\n",
    "            self.in_heading = False\n",
    "\n",
    "    def handle_data(self, data):\n",
    "        if self.in_heading:\n",
    "            print(\" \" * self.heading_level + data.strip())\n",
    "            self.in_heading = False"
   ]
  },
  {
   "cell_type": "code",
   "execution_count": 28,
   "metadata": {},
   "outputs": [
    {
     "name": "stdout",
     "output_type": "stream",
     "text": [
      "W3C Mission\n",
      " Principles\n"
     ]
    }
   ],
   "source": [
    "infile = open('w3c.html', 'r')\n",
    "contents = infile.read()\n",
    "infile.close()\n",
    "hp = HeadingParser()\n",
    "hp.feed(contents)"
   ]
  },
  {
   "cell_type": "markdown",
   "metadata": {},
   "source": [
    "## Question 7:\n",
    "Implement recursive function `webdir()` that takes as input: a URL (as a string) and \n",
    "non-negative integers depth and indent. Your function should visit every web \n",
    "page reachable from the starting URL web page in depth clicks or less, and print \n",
    "each web page's URL. As shown below, indentation, specified by indent,  should \n",
    "be used to indicate the depth of a URL."
   ]
  },
  {
   "cell_type": "code",
   "execution_count": 43,
   "metadata": {},
   "outputs": [
    {
     "name": "stdout",
     "output_type": "stream",
     "text": [
      "http://reed.cs.depaul.edu/lperkovic/csc242/test1.html\n"
     ]
    }
   ],
   "source": [
    "import requests\n",
    "from bs4 import BeautifulSoup\n",
    "\n",
    "def webdir(url, depth, indent):\n",
    "    # Base case: if depthh is zero, stop recursion\n",
    "    if depth < 0:\n",
    "        return\n",
    "    \n",
    "    # Print the current URL with the specified indentation\n",
    "    print(\" \" * indent + url)\n",
    "\n",
    "    try:\n",
    "        # Fetch the page content\n",
    "        reponse = requests.get(url)\n",
    "\n",
    "        # Parse the HTML content\n",
    "        soup = BeautifulSoup(reponse.text, 'html.parser')\n",
    "        \n",
    "        # Find all the links on the page\n",
    "        links = soup.find_all('a', href=True)\n",
    "\n",
    "        # Reecur for each link, decreasing depth and increasing indent\n",
    "        for link in links:\n",
    "            next_url = link['href']\n",
    "            # Only process absolute URLs\n",
    "            if next_url.startswith('http'):\n",
    "                webdir(next_url, depth - 1, indent + 4)\n",
    "\n",
    "    except requests.exceptions.RequestException as e:\n",
    "        print(f'Error accessing {url}: {e}')\n",
    "\n",
    "webdir('http://reed.cs.depaul.edu/lperkovic/csc242/test1.html', 2, 0)\n"
   ]
  },
  {
   "cell_type": "markdown",
   "metadata": {},
   "source": [
    "## Question 8: \n",
    "Write SQL queries on the below database table that return: \n",
    "\n",
    "- Suppose table name is weather\n",
    "\n",
    "a. All the temperature data. \n",
    "\n",
    "`SELECT \"Temperature(C)\" FROM weather;`\n",
    "\n",
    "b. All the cities, but without repetition. \n",
    "\n",
    "`SELECT DISTINC City FROM weather;`\n",
    "\n",
    "c. All the records for India. \n",
    "\n",
    "```\n",
    "SELECT * FROM weather\n",
    "WHERE Country = 'India';\n",
    "```\n",
    "\n",
    "d. All the Fall records.\n",
    "\n",
    "```\n",
    "SELECT * FROM weather\n",
    "WHERE Season = 'Fall';\n",
    "```\n",
    "\n",
    "e. The city, country, and season for which the average rainfall is between 200 \n",
    "and 400 millimeters. \n",
    "\n",
    "```\n",
    "SELECT City, Country, Season \n",
    "FROM weather\n",
    "GROUP BY City, Country, Season\n",
    "HAVING AVG(\"Rainfall(mm)\") BETWEEN 200 AND 400;\n",
    "```\n",
    "\n",
    "f. The city and country for which the average Fall temperature is above 20 \n",
    "degrees, in increasing temperature order. \n",
    "\n",
    "```\n",
    "SELECT City, Country\n",
    "FROM weather\n",
    "WHERE Season = 'Fall'\n",
    "GROUP BY City, Country\n",
    "HAVING AVG(\"Temperature(C)\") > 20\n",
    "ORDER BY AVG(\"Temperature(C)\");\n",
    "```\n",
    "\n",
    "g. The total annual rainfall for Cairo.\n",
    "\n",
    "```\n",
    "SELECT City, SUM(\"Rainfall(mm)\") AS Total_Annual_Rainfall\n",
    "FROM weather\n",
    "WHERE City = 'Cairo'\n",
    "GROUP BY City;\n",
    "```\n",
    "\n",
    "h. The total rainfall for each season.\n",
    "\n",
    "```\n",
    "SELECT Season, SUM(\"Rainfall(mm)\") AS Total_Rainfall\n",
    "FROM weather\n",
    "GROUP BY Season;\n",
    "```\n"
   ]
  },
  {
   "cell_type": "markdown",
   "metadata": {},
   "source": [
    "## Question 9:\n",
    "\n",
    "Suppose list words is defined as follows: \n",
    "\n",
    "`words  =  ['The',  'quick',  'brown',  'fox',  'jumps',  'over', 'the',  'lazy',  'dog']` \n",
    "\n",
    "Write list comprehension expressions that use list words and generate the following \n",
    "lists:\n",
    "\n",
    "a. ['THE',  'QUICK',  'BROWN',  'FOX',  'JUMPS',  'OVER',  'THE', 'LAZY',  'DOG'] \n",
    "\n",
    "b. ['the',  'quick',  'brown',  'fox',  'jumps',  'over',  'the', 'lazy',  'dog']\n",
    "\n",
    "c.  [3,  5,  5,  3,  5,  4,  3,  4,  3] (the list of lengths of words in list words).\n",
    "\n",
    "d.  [['THE',  'the',  3],  ['QUICK',  'quick',  5],  ['BROWN', 'brown',  5],  ['FOX',  'fox',  3],  ['JUMPS',  'jumps',  5], ['OVER',  'over',  4],  ['THE',  'the',  3],  ['LAZY',  'lazy', 4],  ['DOG',  'dog',  3]] (the list containing a list for every word of list words, where each list contains the word in uppercase and lowercase and the length of the word.) \n",
    "\n",
    "e. ['The',  'quick',  'brown',  'fox',  'jumps',  'over',  'the', 'lazy',  'dog'] (the list of words in list words containing 4 or more characters.)"
   ]
  },
  {
   "cell_type": "code",
   "execution_count": 35,
   "metadata": {},
   "outputs": [],
   "source": [
    "words  =  ['The',  'quick',  'brown',  'fox',  'jumps',  'over', 'the',  'lazy',  'dog'] "
   ]
  },
  {
   "cell_type": "code",
   "execution_count": null,
   "metadata": {},
   "outputs": [
    {
     "data": {
      "text/plain": [
       "['THE', 'QUICK', 'BROWN', 'FOX', 'JUMPS', 'OVER', 'THE', 'LAZY', 'DOG']"
      ]
     },
     "execution_count": 37,
     "metadata": {},
     "output_type": "execute_result"
    }
   ],
   "source": [
    "# a. List with all words in uppercase\n",
    "uppercase = [word.upper() for word in words]\n",
    "uppercase"
   ]
  },
  {
   "cell_type": "code",
   "execution_count": null,
   "metadata": {},
   "outputs": [
    {
     "data": {
      "text/plain": [
       "['the', 'quick', 'brown', 'fox', 'jumps', 'over', 'the', 'lazy', 'dog']"
      ]
     },
     "execution_count": 38,
     "metadata": {},
     "output_type": "execute_result"
    }
   ],
   "source": [
    "# b. List with all words in lowercase\n",
    "lowercase = [word.lower() for word in words]\n",
    "lowercase"
   ]
  },
  {
   "cell_type": "code",
   "execution_count": 39,
   "metadata": {},
   "outputs": [
    {
     "data": {
      "text/plain": [
       "[3, 5, 5, 3, 5, 4, 3, 4, 3]"
      ]
     },
     "execution_count": 39,
     "metadata": {},
     "output_type": "execute_result"
    }
   ],
   "source": [
    "# c. List of lengths of each word\n",
    "word_length = [len(word) for word in words]\n",
    "word_length"
   ]
  },
  {
   "cell_type": "code",
   "execution_count": 40,
   "metadata": {},
   "outputs": [
    {
     "data": {
      "text/plain": [
       "[['THE', 'the', 3],\n",
       " ['QUICK', 'quick', 5],\n",
       " ['BROWN', 'brown', 5],\n",
       " ['FOX', 'fox', 3],\n",
       " ['JUMPS', 'jumps', 5],\n",
       " ['OVER', 'over', 4],\n",
       " ['THE', 'the', 3],\n",
       " ['LAZY', 'lazy', 4],\n",
       " ['DOG', 'dog', 3]]"
      ]
     },
     "execution_count": 40,
     "metadata": {},
     "output_type": "execute_result"
    }
   ],
   "source": [
    "# d. List of lists containing uppercase, lowercase, and word length\n",
    "word_info = [[word.upper(), word.lower(), len(word)] for word in words]\n",
    "word_info"
   ]
  },
  {
   "cell_type": "code",
   "execution_count": 42,
   "metadata": {},
   "outputs": [
    {
     "data": {
      "text/plain": [
       "['quick', 'brown', 'jumps', 'over', 'lazy']"
      ]
     },
     "execution_count": 42,
     "metadata": {},
     "output_type": "execute_result"
    }
   ],
   "source": [
    "# e. List of words containing 4 or more characters\n",
    "long_words = [word for word in words if len(word) >= 4]\n",
    "long_words"
   ]
  }
 ],
 "metadata": {
  "kernelspec": {
   "display_name": "base",
   "language": "python",
   "name": "python3"
  },
  "language_info": {
   "codemirror_mode": {
    "name": "ipython",
    "version": 3
   },
   "file_extension": ".py",
   "mimetype": "text/x-python",
   "name": "python",
   "nbconvert_exporter": "python",
   "pygments_lexer": "ipython3",
   "version": "3.12.4"
  }
 },
 "nbformat": 4,
 "nbformat_minor": 2
}
